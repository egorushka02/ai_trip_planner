{
 "cells": [
  {
   "cell_type": "code",
   "execution_count": 1,
   "id": "18cfab97",
   "metadata": {},
   "outputs": [],
   "source": [
    "from dotenv import load_dotenv\n",
    "load_dotenv()\n",
    "\n",
    "import os\n",
    "\n",
    "os.environ[\"GROQ_API_KEY\"] = os.getenv(\"GROQ_API_KEY\")"
   ]
  },
  {
   "cell_type": "code",
   "execution_count": 2,
   "id": "87517066",
   "metadata": {},
   "outputs": [],
   "source": [
    "## Initialize LLM model\n",
    "from langchain_groq import ChatGroq\n",
    "\n",
    "llm = ChatGroq(model=\"qwen-qwq-32b\")"
   ]
  },
  {
   "cell_type": "code",
   "execution_count": 3,
   "id": "c7809b1e",
   "metadata": {},
   "outputs": [
    {
     "data": {
      "text/plain": [
       "AIMessage(content='\\n<think>\\nOkay, the user is asking, \"What is AI?\" Let me start by breaking down what AI actually means. AI stands for Artificial Intelligence, right? So I should explain that it\\'s a field of computer science. But maybe I should make it more relatable. Maybe start with a simple definition first. \\n\\nHmm, the user might not know much about computer science, so I should keep it basic. Maybe mention that AI involves machines doing tasks that usually require human intelligence. But what tasks exactly? Like problem-solving, learning, recognizing speech or images. That makes sense.\\n\\nWait, I should also touch on the different types of AI. There\\'s narrow or weak AI, which is what we see today in things like Siri or recommendation systems. Then there\\'s general or strong AI, which is more human-like and can handle various tasks. But I should clarify that general AI is still theoretical because we don\\'t have that yet.\\n\\nApplications are important too. The user might be curious about how AI is used. Examples like virtual assistants, self-driving cars, healthcare diagnostics, and even in gaming. Maybe mention machine learning and deep learning as subsets of AI. Oh right, machine learning is about algorithms learning from data, and deep learning uses neural networks.\\n\\nAlso, maybe touch on the goals of AI, like mimicking human cognitive functions. But I should mention the limitations and challenges, like ethical issues or the need for large data sets. Wait, but the user might not need all that unless they ask for more details. Since the question is \"what is AI,\" maybe keep it concise but cover the basics.\\n\\nHmm, should I structure it into sections? Like a definition, types, applications, and maybe a brief mention of techniques. That way it\\'s organized and easy to follow. Let me check if I\\'m missing anything important. Oh, maybe the difference between AI and robotics? But maybe that\\'s a bit too detailed here. Focus on core aspects first.\\n\\nAlso, the user might confuse AI with automation. Need to clarify that AI is more about intelligence, not just automation. Alright, putting it all together in a clear, straightforward way without jargon. Make sure to define terms like machine learning if I use them. But since it\\'s part of the explanation, maybe it\\'s okay.\\n\\nWait, I should also mention that AI systems can improve over time with more data. That\\'s a key point about machine learning. Maybe start with a simple definition, then go into types, how it works, applications, and a quick note on current state. Yeah, that should cover it without overwhelming. Let me make sure the examples are relatable, like Netflix recommendations or voice assistants. That helps illustrate without technical terms.\\n</think>\\n\\n**Artificial Intelligence (AI)** refers to the simulation of human intelligence in machines, enabling them to perform tasks that typically require human-like cognition. These tasks include learning, problem-solving, reasoning, perception, and decision-making. AI systems can process vast amounts of data to identify patterns, make predictions, and adapt to new information.\\n\\n### Key Concepts:\\n1. **Types of AI**:\\n   - **Narrow (or Weak) AI**: Specialized for specific tasks (e.g., voice assistants like Siri, recommendation systems on Netflix, or spam filters).\\n   - **General (or Strong) AI**: Hypothetical systems with human-level intelligence, capable of performing *any* intellectual task a human can do. This is still theoretical and not yet achieved.\\n\\n2. **How It Works**:\\n   - **Machine Learning (ML)**: A subset of AI where systems learn from data without explicit programming. Examples include algorithms like decision trees or neural networks.\\n   - **Deep Learning**: A type of ML using multi-layered artificial neural networks (inspired by the human brain) to analyze complex data (e.g., image or speech recognition).\\n\\n### Applications of AI:\\n- **Healthcare**: Diagnosing diseases, drug discovery, and personalized treatment plans.\\n- **Autonomous Systems**: Self-driving cars and drones.\\n- **Customer Service**: Chatbots for 24/7 support.\\n- **Finance**: Fraud detection, algorithmic trading, and risk assessment.\\n- **Entertainment**: Content recommendations (e.g., Netflix, Spotify) and video game NPCs (non-player characters).\\n- **Manufacturing**: Robotics for assembly lines and quality control.\\n\\n### Challenges & Considerations:\\n- **Data Dependency**: AI models require large, high-quality datasets to function effectively.\\n- **Ethics**: Issues like bias in algorithms, privacy concerns, and job displacement.\\n- **Transparency**: \"Black box\" models (where decisions aren’t easily explainable) can be problematic in critical areas like healthcare or justice.\\n\\n### Current State:\\nAI today is primarily **narrow AI**, excelling in specific domains but lacking generalized reasoning or consciousness. The field is rapidly evolving, driven by advancements in computing power, big data, and algorithmic innovation.\\n\\nIn essence, AI is about creating systems that mimic human intelligence to solve problems, automate tasks, and enhance decision-making in a growing number of fields.', additional_kwargs={}, response_metadata={'token_usage': {'completion_tokens': 1029, 'prompt_tokens': 13, 'total_tokens': 1042, 'completion_time': 2.36680658, 'prompt_time': 0.002713198, 'queue_time': 0.083077205, 'total_time': 2.369519778}, 'model_name': 'qwen-qwq-32b', 'system_fingerprint': 'fp_ea798e78f0', 'finish_reason': 'stop', 'logprobs': None}, id='run--f2392332-6c2a-4802-b712-d5ab4765bd3b-0', usage_metadata={'input_tokens': 13, 'output_tokens': 1029, 'total_tokens': 1042})"
      ]
     },
     "execution_count": 3,
     "metadata": {},
     "output_type": "execute_result"
    }
   ],
   "source": [
    "llm.invoke(\"What is AI\")"
   ]
  },
  {
   "cell_type": "code",
   "execution_count": 4,
   "id": "1f59f96d",
   "metadata": {},
   "outputs": [],
   "source": [
    "from langchain.tools import tool"
   ]
  },
  {
   "cell_type": "code",
   "execution_count": 5,
   "id": "109d7807",
   "metadata": {},
   "outputs": [],
   "source": [
    "@tool\n",
    "def multiply(a: int, b: int) -> int:\n",
    "    \"\"\"\n",
    "    Multiply two integers\n",
    "\n",
    "    Args:\n",
    "        a (int): the first integer\n",
    "        b (int): the second integer\n",
    "    Returns:\n",
    "        int: The product of a and b\n",
    "    \"\"\"\n",
    "    return a * b"
   ]
  },
  {
   "cell_type": "code",
   "execution_count": 6,
   "id": "87b3163c",
   "metadata": {},
   "outputs": [
    {
     "data": {
      "text/plain": [
       "StructuredTool(name='multiply', description='Multiply two integers\\n\\nArgs:\\n    a (int): the first integer\\n    b (int): the second integer\\nReturns:\\n    int: The product of a and b', args_schema=<class 'langchain_core.utils.pydantic.multiply'>, func=<function multiply at 0x10867d8a0>)"
      ]
     },
     "execution_count": 6,
     "metadata": {},
     "output_type": "execute_result"
    }
   ],
   "source": [
    "multiply"
   ]
  },
  {
   "cell_type": "code",
   "execution_count": 7,
   "id": "67084303",
   "metadata": {},
   "outputs": [],
   "source": [
    "from langchain.tools import StructuredTool"
   ]
  },
  {
   "cell_type": "code",
   "execution_count": 10,
   "id": "14cbc3c2",
   "metadata": {},
   "outputs": [],
   "source": [
    "from pydantic import BaseModel\n",
    "class WeatherInput(BaseModel):\n",
    "    city: str"
   ]
  },
  {
   "cell_type": "code",
   "execution_count": 11,
   "id": "37281f8a",
   "metadata": {},
   "outputs": [],
   "source": [
    "def get_weather(city: str) -> str:\n",
    "    \"\"\"\n",
    "    Get the weather for the given city\n",
    "    Args:\n",
    "        city (str): The name of the city\n",
    "    \n",
    "    Returns:\n",
    "        str: A string describing the weather in the city\n",
    "    \"\"\"\n",
    "    return f\"The weather in the {city} is sunny\""
   ]
  },
  {
   "cell_type": "code",
   "execution_count": 12,
   "id": "f950cad2",
   "metadata": {},
   "outputs": [],
   "source": [
    "weather_tool = StructuredTool.from_function(\n",
    "    func=get_weather,\n",
    "    name=\"get weather\",\n",
    "    description=\"Fetches real-time weather data for a city\",\n",
    "    args_schema=WeatherInput # \n",
    ")"
   ]
  },
  {
   "cell_type": "code",
   "execution_count": null,
   "id": "a65f5ef0",
   "metadata": {},
   "outputs": [
    {
     "ename": "SyntaxError",
     "evalue": "invalid syntax (777501163.py, line 6)",
     "output_type": "error",
     "traceback": [
      "  \u001b[36mCell\u001b[39m\u001b[36m \u001b[39m\u001b[32mIn[13]\u001b[39m\u001b[32m, line 6\u001b[39m\n\u001b[31m    \u001b[39m\u001b[31mclass GetWeatherTool(StructuredTool);\u001b[39m\n                                        ^\n\u001b[31mSyntaxError\u001b[39m\u001b[31m:\u001b[39m invalid syntax\n"
     ]
    }
   ],
   "source": [
    "class WeatherInput(BaseModel):\n",
    "    city: str = Field(..., description=\"City name\")\n",
    "    units: str = Field(... , description=\"metric or imperial\")\n",
    "\n",
    "\n",
    "class GetWeatherTool(StructuredTool):\n",
    "    name: ClassVar[str] = \"get_weather\"\n",
    "    description: ClassVar[str] = (\n",
    "        \"Fetches weather data for a city\"\n",
    "    )\n",
    "    args_schema: ClassVar[Type[BaseModel]] = WeatherInput\n",
    "\n",
    "    def _run(self, city: str, units: str='metric') -> str:\n",
    "        return get_weather(city, units)"
   ]
  },
  {
   "cell_type": "code",
   "execution_count": null,
   "id": "971cf844",
   "metadata": {},
   "outputs": [],
   "source": []
  }
 ],
 "metadata": {
  "kernelspec": {
   "display_name": ".venv",
   "language": "python",
   "name": "python3"
  },
  "language_info": {
   "codemirror_mode": {
    "name": "ipython",
    "version": 3
   },
   "file_extension": ".py",
   "mimetype": "text/x-python",
   "name": "python",
   "nbconvert_exporter": "python",
   "pygments_lexer": "ipython3",
   "version": "3.11.6"
  }
 },
 "nbformat": 4,
 "nbformat_minor": 5
}
